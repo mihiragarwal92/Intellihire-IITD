{
 "cells": [
  {
   "cell_type": "code",
   "execution_count": 1,
   "id": "67b059d1",
   "metadata": {},
   "outputs": [],
   "source": [
    "import PyPDF2\n",
    "import matplotlib.pyplot as plt"
   ]
  },
  {
   "cell_type": "code",
   "execution_count": 2,
   "id": "9bf583ba",
   "metadata": {},
   "outputs": [],
   "source": [
    "import spacy"
   ]
  },
  {
   "cell_type": "code",
   "execution_count": 3,
   "id": "bfffbf8a",
   "metadata": {},
   "outputs": [],
   "source": [
    "nlp = spacy.load(\"en_core_web_sm\")"
   ]
  },
  {
   "cell_type": "code",
   "execution_count": 4,
   "id": "bb561624",
   "metadata": {},
   "outputs": [
    {
     "name": "stdout",
     "output_type": "stream",
     "text": [
      "Enter common English words separated by spaces: FIGMA HTML UI CSS JAVASCRIPT UI UX ENGLISH CANVA EXCEL\n",
      "{'UX', 'EXCEL', 'ENGLISH', 'CSS', 'CANVA', 'HTML', 'FIGMA', 'JAVASCRIPT', 'UI'}\n",
      "<class 'set'>\n",
      "9\n",
      "{'UX', 'EXCEL', 'ENGLISH', 'CSS', 'CANVA', 'HTML', 'FIGMA', 'JAVASCRIPT', 'UI'}\n"
     ]
    }
   ],
   "source": [
    "def extract_text_from_pdf(pdf_file):\n",
    "    text = \"\"\n",
    "    with open(pdf_file, \"rb\") as file:\n",
    "        pdf_reader = PyPDF2.PdfReader(file)\n",
    "        num_pages = len(pdf_reader.pages)  # Use len(reader.pages) to get the number of pages\n",
    "        for page in range(num_pages):\n",
    "            text += pdf_reader.pages[page].extract_text()\n",
    "    return text \n",
    "\n",
    "common_english_words_input = input(\"Enter common English words separated by spaces: \")\n",
    "common_english_words =set(common_english_words_input.split())\n",
    "COPY=common_english_words\n",
    "print(common_english_words)\n",
    "print(type(common_english_words))\n",
    "total_skills = len(common_english_words)\n",
    "print(total_skills)\n",
    "print(COPY)\n",
    "count=1\n",
    "results=[]"
   ]
  },
  {
   "cell_type": "code",
   "execution_count": 5,
   "id": "8a4ac860",
   "metadata": {},
   "outputs": [],
   "source": [
    "cv_pdf_file = {\n",
    "               \"C:\\\\Users\\\\HP\\\\Desktop\\\\CV\\\\MonuCV.pdf\",\n",
    "               \"C:\\\\Users\\\\HP\\\\Desktop\\\\CV\\\\AniketKumar.pdf\",\n",
    "               \"C:\\\\Users\\\\HP\\\\Desktop\\\\CV\\\\AditiMaheshwariCV.pdf\",\n",
    "               \"C:\\\\Users\\\\HP\\\\Desktop\\\\CV\\\\ABHISHEKTIAKDERResume.pdf\",\n",
    "               \"C:\\\\Users\\\\HP\\\\Desktop\\\\CV\\\\Ankita Halder Resume.pdf\",\n",
    "               \"C:\\\\Users\\\\HP\\\\Desktop\\\\CV\\\\Aditya_Diundi_Resumecompressed.pdf\",\n",
    "               \"C:\\\\Users\\\\HP\\\\Desktop\\\\docs\\\\SAKSHI SHARMA PLUM RESUME.pdf\"\n",
    "               \n",
    "              }\n",
    "              \n"
   ]
  },
  {
   "cell_type": "code",
   "execution_count": 6,
   "id": "7dc3e7a7",
   "metadata": {},
   "outputs": [
    {
     "name": "stdout",
     "output_type": "stream",
     "text": [
      "1\n",
      "{'UX', 'EXCEL', 'ENGLISH', 'CSS', 'CANVA', 'HTML', 'FIGMA', 'JAVASCRIPT', 'UI'}\n",
      "The score is 0 / 9\n",
      "The CV is a  0 % match\n",
      "\n",
      "\n"
     ]
    },
    {
     "name": "stderr",
     "output_type": "stream",
     "text": [
      "incorrect startxref pointer(1)\n"
     ]
    },
    {
     "name": "stdout",
     "output_type": "stream",
     "text": [
      "2\n",
      "{'UX', 'EXCEL', 'ENGLISH', 'CSS', 'CANVA', 'HTML', 'FIGMA', 'JAVASCRIPT', 'UI'}\n",
      "The score is 2 / 9\n",
      "The CV is a  22 % match\n",
      "\n",
      "\n"
     ]
    },
    {
     "name": "stderr",
     "output_type": "stream",
     "text": [
      "incorrect startxref pointer(1)\n"
     ]
    },
    {
     "name": "stdout",
     "output_type": "stream",
     "text": [
      "3\n",
      "{'UX', 'EXCEL', 'ENGLISH', 'CSS', 'CANVA', 'HTML', 'FIGMA', 'JAVASCRIPT', 'UI'}\n",
      "The score is 2 / 9\n",
      "The CV is a  22 % match\n",
      "\n",
      "\n",
      "4\n",
      "{'UX', 'EXCEL', 'ENGLISH', 'CSS', 'CANVA', 'HTML', 'FIGMA', 'JAVASCRIPT', 'UI'}\n",
      "The score is 5 / 9\n",
      "The CV is a  56 % match\n",
      "\n",
      "\n",
      "5\n",
      "{'UX', 'EXCEL', 'ENGLISH', 'CSS', 'CANVA', 'HTML', 'FIGMA', 'JAVASCRIPT', 'UI'}\n",
      "The score is 3 / 9\n",
      "The CV is a  33 % match\n",
      "\n",
      "\n",
      "6\n",
      "{'UX', 'EXCEL', 'ENGLISH', 'CSS', 'CANVA', 'HTML', 'FIGMA', 'JAVASCRIPT', 'UI'}\n",
      "The score is 2 / 9\n",
      "The CV is a  22 % match\n",
      "\n",
      "\n",
      "7\n",
      "{'UX', 'EXCEL', 'ENGLISH', 'CSS', 'CANVA', 'HTML', 'FIGMA', 'JAVASCRIPT', 'UI'}\n",
      "The score is 2 / 9\n",
      "The CV is a  22 % match\n",
      "\n",
      "\n"
     ]
    }
   ],
   "source": [
    "for item in cv_pdf_file:\n",
    " cv_text = extract_text_from_pdf(item)\n",
    " cv_text = cv_text.upper()\n",
    " doc = nlp(cv_text)\n",
    " \n",
    "\n",
    "# common_english_words = set([\"Python\",\"C++\",\"DSA\",\"AIML\",\"Power BI\",\"SQL\",\"Excel\",\"React\",\"HTML\",\"CSS\",\"JAVASCRIPT\"])\n",
    " print(count)\n",
    " common_english=common_english_words.copy()\n",
    " print(common_english_words)   \n",
    " score = 0\n",
    " extracted_skills = set()\n",
    " for token in doc:\n",
    "    \n",
    "    if token.text in common_english:\n",
    "        extracted_skills.add(token.text)\n",
    "        common_english.remove(token.text)\n",
    "        score+= 1\n",
    "        \n",
    "  \n",
    " print(\"The score is\",score,\"/\",total_skills) \n",
    " matching_skills_percentage = (score / total_skills) * 100\n",
    " print(\"The CV is a \",round(matching_skills_percentage),\"% match\")\n",
    " results.append((count,matching_skills_percentage))   \n",
    " print(\"\\n\")\n",
    " count=count+1 \n",
    " \n",
    " \n",
    " \n",
    "        "
   ]
  },
  {
   "cell_type": "code",
   "execution_count": 7,
   "id": "eae654bf",
   "metadata": {},
   "outputs": [],
   "source": [
    "sorted_results=sorted(results,key=lambda x:x[1],reverse=True)"
   ]
  },
  {
   "cell_type": "code",
   "execution_count": 8,
   "id": "fe6a733e",
   "metadata": {},
   "outputs": [
    {
     "name": "stdout",
     "output_type": "stream",
     "text": [
      "4\n",
      "55.55555555555556 %\n",
      "\n",
      "\n",
      "5\n",
      "33.33333333333333 %\n",
      "\n",
      "\n",
      "2\n",
      "22.22222222222222 %\n",
      "\n",
      "\n",
      "3\n",
      "22.22222222222222 %\n",
      "\n",
      "\n",
      "6\n",
      "22.22222222222222 %\n",
      "\n",
      "\n",
      "7\n",
      "22.22222222222222 %\n",
      "\n",
      "\n",
      "1\n",
      "0.0 %\n",
      "\n",
      "\n"
     ]
    }
   ],
   "source": [
    "for count,percentage  in sorted_results:\n",
    "    print(count)\n",
    "    print (percentage,\"%\")\n",
    "    print(\"\\n\")\n",
    "   \n",
    "    \n",
    "   "
   ]
  },
  {
   "cell_type": "code",
   "execution_count": 9,
   "id": "7adcf416",
   "metadata": {},
   "outputs": [
    {
     "data": {
      "text/plain": [
       "<function matplotlib.pyplot.show(close=None, block=None)>"
      ]
     },
     "execution_count": 9,
     "metadata": {},
     "output_type": "execute_result"
    },
    {
     "data": {
      "image/png": "[encoded data removed]",
      "text/plain": [
       "<Figure size 432x288 with 1 Axes>"
      ]
     },
     "metadata": {
      "needs_background": "light"
     },
     "output_type": "display_data"
    }
   ],
   "source": [
    "count,percentage=zip(*results)\n",
    "plt.bar(count,percentage)\n",
    "plt.xlabel(\"COUNT\")\n",
    "plt.ylabel(\"percentage\")\n",
    "plt.title(\"RESULT\")\n",
    "plt.show"
   ]
  }
 ],
 "metadata": {
  "kernelspec": {
   "display_name": "Python 3 (ipykernel)",
   "language": "python",
   "name": "python3"
  },
  "language_info": {
   "codemirror_mode": {
    "name": "ipython",
    "version": 3
   },
   "file_extension": ".py",
   "mimetype": "text/x-python",
   "name": "python",
   "nbconvert_exporter": "python",
   "pygments_lexer": "ipython3",
   "version": "3.9.12"
  }
 },
 "nbformat": 4,
 "nbformat_minor": 5
}
